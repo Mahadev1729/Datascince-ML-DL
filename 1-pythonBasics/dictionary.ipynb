{
 "cells": [
  {
   "cell_type": "code",
   "execution_count": 4,
   "metadata": {},
   "outputs": [
    {
     "name": "stdout",
     "output_type": "stream",
     "text": [
      "{'name': 'Mahadev', 'id': 123, 'year': 2004}\n",
      "Mahadev\n"
     ]
    }
   ],
   "source": [
    "##creating dictionary\n",
    "my_dict={\n",
    "    \"name\":\"Mahadev\",\n",
    "    \"id\":123,\n",
    "    \"year\":2004,\n",
    "}\n",
    "print(my_dict)\n",
    "print(my_dict[\"name\"])"
   ]
  },
  {
   "cell_type": "code",
   "execution_count": 5,
   "metadata": {},
   "outputs": [
    {
     "name": "stdout",
     "output_type": "stream",
     "text": [
      "{'name': 'Krishn', 'age': 34, 'dob': '23 May 2004'}\n"
     ]
    }
   ],
   "source": [
    "student={\n",
    "    \"name\":\"Krishn\",\n",
    "    \"age\":34,\n",
    "    \"dob\":\"23 May 2004\",\n",
    "}\n",
    "print(student)"
   ]
  },
  {
   "cell_type": "code",
   "execution_count": 11,
   "metadata": {},
   "outputs": [
    {
     "name": "stdout",
     "output_type": "stream",
     "text": [
      "Krishna\n"
     ]
    }
   ],
   "source": [
    "student={\n",
    "    \"name\":\"Krishna\",\n",
    "    \"age\":34,\n",
    "    \"dob\":\"23 May 2004\",\n",
    "}\n",
    "print(student.get(\"name\"))"
   ]
  },
  {
   "cell_type": "code",
   "execution_count": 17,
   "metadata": {},
   "outputs": [
    {
     "name": "stdout",
     "output_type": "stream",
     "text": [
      "dict_keys(['name', 'dob'])\n"
     ]
    }
   ],
   "source": [
    "## methods\n",
    "keys=student.keys()\n",
    "print(keys)"
   ]
  },
  {
   "cell_type": "code",
   "execution_count": 18,
   "metadata": {},
   "outputs": [
    {
     "name": "stdout",
     "output_type": "stream",
     "text": [
      "dict_values(['Mahadev', '23 May 2004'])\n"
     ]
    }
   ],
   "source": [
    "values=student.values()\n",
    "print(values)"
   ]
  },
  {
   "cell_type": "code",
   "execution_count": 19,
   "metadata": {},
   "outputs": [
    {
     "name": "stdout",
     "output_type": "stream",
     "text": [
      "dict_items([('name', 'Mahadev'), ('dob', '23 May 2004')])\n"
     ]
    }
   ],
   "source": [
    "items=student.items()\n",
    "print(items)"
   ]
  },
  {
   "cell_type": "code",
   "execution_count": 21,
   "metadata": {},
   "outputs": [
    {
     "name": "stdout",
     "output_type": "stream",
     "text": [
      "{'name': 'Mahadev', 'dob': '23 May 2004'}\n",
      "{'name': 'Mahadev', 'dob': '23 May 2004'}\n"
     ]
    }
   ],
   "source": [
    "##shallow copy\n",
    "studen_copy=student\n",
    "print(student)\n",
    "print(studen_copy)"
   ]
  },
  {
   "cell_type": "code",
   "execution_count": 23,
   "metadata": {},
   "outputs": [
    {
     "name": "stdout",
     "output_type": "stream",
     "text": [
      "{'name': 'Sagar', 'dob': '23 May 2004'}\n",
      "{'name': 'Sagar', 'dob': '23 May 2004'}\n"
     ]
    }
   ],
   "source": [
    "student[\"name\"]=\"Sagar\"\n",
    "print(student)\n",
    "print(studen_copy)"
   ]
  },
  {
   "cell_type": "code",
   "execution_count": 30,
   "metadata": {},
   "outputs": [
    {
     "name": "stdout",
     "output_type": "stream",
     "text": [
      "{'name': 'Sagar', 'dob': '23 May 2004'}\n",
      "{'name': 'Akash', 'dob': '23 May 2004'}\n",
      "{'name': 'Sagar', 'dob': '23 May 2004'}\n"
     ]
    }
   ],
   "source": [
    "student_copy1=student.copy() \n",
    "print(student_copy1)\n",
    "student[\"name\"]=\"Akash\"\n",
    "print(student)\n",
    "print(studen_copy1)\n"
   ]
  },
  {
   "cell_type": "code",
   "execution_count": 2,
   "metadata": {},
   "outputs": [
    {
     "name": "stdout",
     "output_type": "stream",
     "text": [
      "name\n",
      "age\n",
      "dob\n",
      "Krishna\n",
      "34\n",
      "23 May 2004\n"
     ]
    }
   ],
   "source": [
    "##iterate in dictionary\n",
    "students={\n",
    "    \"name\":\"Krishna\",\n",
    "    \"age\":34,\n",
    "    \"dob\":\"23 May 2004\",\n",
    "}\n",
    "##iterating over keys\n",
    "for key in students.keys():\n",
    "    print(key)\n",
    "##iterate over values\n",
    "for value in students.values():\n",
    "    print(value)"
   ]
  },
  {
   "cell_type": "code",
   "execution_count": 4,
   "metadata": {},
   "outputs": [
    {
     "name": "stdout",
     "output_type": "stream",
     "text": [
      "(name:Krishna)\n",
      "(age:34)\n",
      "(dob:23 May 2004)\n"
     ]
    }
   ],
   "source": [
    "## iterates over key value pairs\n",
    "for key,value in students.items():\n",
    "    print(f\"({key}:{value})\")"
   ]
  },
  {
   "cell_type": "code",
   "execution_count": 7,
   "metadata": {},
   "outputs": [
    {
     "name": "stdout",
     "output_type": "stream",
     "text": [
      "{'student1': {'name': 'Ram', 'age': 23, 'id': 345}, 'student2': {'name': 'Ravan', 'age': 34, 'id': 456}}\n",
      "{'student1': {'name': 'Ram', 'age': 23, 'id': 345}, 'student2': {'name': 'Ravan', 'age': 34, 'id': 456}}\n"
     ]
    }
   ],
   "source": [
    "## Nested dictionaries\n",
    "students={\n",
    "    \"student1\":{\n",
    "        \"name\":\"Ram\",\n",
    "        \"age\":23,\n",
    "        \"id\":345,\n",
    "    },\n",
    "    \"student2\":{\n",
    "        \"name\":\"Ravan\",\n",
    "        \"age\":34,\n",
    "        \"id\":456,\n",
    "    }\n",
    "}\n",
    "print(students)\n"
   ]
  },
  {
   "cell_type": "code",
   "execution_count": 9,
   "metadata": {},
   "outputs": [
    {
     "name": "stdout",
     "output_type": "stream",
     "text": [
      "Ram\n"
     ]
    }
   ],
   "source": [
    "## access the nested the dictonary\n",
    "students={\n",
    "    \"student1\":{\n",
    "        \"name\":\"Ram\",\n",
    "        \"age\":23,\n",
    "        \"id\":345,\n",
    "    },\n",
    "    \"student2\":{\n",
    "        \"name\":\"Ravan\",\n",
    "        \"age\":34,\n",
    "        \"id\":456,\n",
    "    }\n",
    "}\n",
    "print(students[\"student1\"][\"name\"])"
   ]
  },
  {
   "cell_type": "code",
   "execution_count": 3,
   "metadata": {},
   "outputs": [
    {
     "name": "stdout",
     "output_type": "stream",
     "text": [
      "student1:{'name': 'Ram', 'age': 23, 'id': 345}\n",
      "name:Ram\n",
      "age:23\n",
      "id:345\n",
      "student2:{'name': 'Ravan', 'age': 34, 'id': 456}\n",
      "name:Ravan\n",
      "age:34\n",
      "id:456\n"
     ]
    }
   ],
   "source": [
    "## iterating over  nested dictioanry\n",
    "students={\n",
    "    \"student1\":{\n",
    "        \"name\":\"Ram\",\n",
    "        \"age\":23,\n",
    "        \"id\":345,\n",
    "    },\n",
    "    \"student2\":{\n",
    "        \"name\":\"Ravan\",\n",
    "        \"age\":34,\n",
    "        \"id\":456,\n",
    "    }\n",
    "}\n",
    "for  stduent_id,student_info in students.items():\n",
    "    print(f\"{stduent_id}:{student_info}\")\n",
    "    for key,value in student_info.items():\n",
    "        print(f\"{key}:{value}\")"
   ]
  },
  {
   "cell_type": "code",
   "execution_count": null,
   "metadata": {},
   "outputs": [],
   "source": []
  },
  {
   "cell_type": "code",
   "execution_count": null,
   "metadata": {},
   "outputs": [],
   "source": []
  },
  {
   "cell_type": "code",
   "execution_count": null,
   "metadata": {},
   "outputs": [],
   "source": []
  }
 ],
 "metadata": {
  "kernelspec": {
   "display_name": "Python 3",
   "language": "python",
   "name": "python3"
  },
  "language_info": {
   "codemirror_mode": {
    "name": "ipython",
    "version": 3
   },
   "file_extension": ".py",
   "mimetype": "text/x-python",
   "name": "python",
   "nbconvert_exporter": "python",
   "pygments_lexer": "ipython3",
   "version": "3.12.8"
  }
 },
 "nbformat": 4,
 "nbformat_minor": 2
}
