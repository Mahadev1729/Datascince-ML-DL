{
 "cells": [
  {
   "cell_type": "code",
   "execution_count": 7,
   "metadata": {},
   "outputs": [
    {
     "name": "stdout",
     "output_type": "stream",
     "text": [
      "{3, 4, 5, 6}\n",
      "<class 'list'>\n",
      "<class 'set'>\n"
     ]
    }
   ],
   "source": [
    "lst=[3,4,5,4,6]\n",
    "st=set(lst)\n",
    "# set.add(6)\n",
    "# print(st)\n",
    "print(st)\n",
    "print(type(lst))\n",
    "print(type(st))"
   ]
  },
  {
   "cell_type": "code",
   "execution_count": 11,
   "metadata": {},
   "outputs": [
    {
     "name": "stdout",
     "output_type": "stream",
     "text": [
      "<class 'set'>\n",
      "{1, 2, 3, 4, 5}\n"
     ]
    }
   ],
   "source": [
    "## creating\n",
    "my_set={1,2,3,4,5,4,5}\n",
    "# my_set={1:2}\n",
    "print(type(my_set))\n",
    "print(my_set)"
   ]
  },
  {
   "cell_type": "code",
   "execution_count": 19,
   "metadata": {},
   "outputs": [
    {
     "name": "stdout",
     "output_type": "stream",
     "text": [
      "{1, 2, 3, 4, 7}\n",
      "{1, 2, 3, 4, 7}\n"
     ]
    }
   ],
   "source": [
    "#basic set operations\n",
    "#adding and removing elements\n",
    "my_set.add(7)\n",
    "print(my_set)\n",
    "# my_set.remove(5)\n",
    "# my_set.remove(9)\n",
    "my_set.discard(9)\n",
    "\n",
    "print(my_set)"
   ]
  },
  {
   "cell_type": "code",
   "execution_count": 22,
   "metadata": {},
   "outputs": [
    {
     "name": "stdout",
     "output_type": "stream",
     "text": [
      "3\n",
      "{4, 7}\n"
     ]
    }
   ],
   "source": [
    "removed_ele=my_set.pop()\n",
    "print(removed_ele)\n",
    "print(my_set)"
   ]
  },
  {
   "cell_type": "code",
   "execution_count": 24,
   "metadata": {},
   "outputs": [
    {
     "name": "stdout",
     "output_type": "stream",
     "text": [
      "True\n",
      "False\n"
     ]
    }
   ],
   "source": [
    "##set membership test\n",
    "my_set={1,2,3,4,5}\n",
    "print(3 in my_set)\n",
    "print(10 in my_set)"
   ]
  },
  {
   "cell_type": "code",
   "execution_count": 29,
   "metadata": {},
   "outputs": [
    {
     "name": "stdout",
     "output_type": "stream",
     "text": [
      "{1, 2, 3, 4, 5, 6, 7, 8}\n",
      "{4, 5, 6}\n",
      "{1, 2, 3}\n",
      "{4, 5, 6}\n"
     ]
    }
   ],
   "source": [
    "## some more mathamtical operation\n",
    "set1={1,2,3,4,5,6}\n",
    "set2={4,5,6,7,8}\n",
    "##union\n",
    "union_set=set1.union(set2)\n",
    "print(union_set)\n",
    "inter_set=set1.intersection(set2)\n",
    "print(inter_set)\n",
    "diff_set=set1.difference(set2)\n",
    "print(diff_set)\n",
    "set1.intersection_update(set2)\n",
    "print(set1)"
   ]
  },
  {
   "cell_type": "code",
   "execution_count": 30,
   "metadata": {},
   "outputs": [
    {
     "name": "stdout",
     "output_type": "stream",
     "text": [
      "{1, 2, 3, 7, 8, 10}\n"
     ]
    }
   ],
   "source": [
    "set1={1,2,3,4,5,6}\n",
    "set2={4,5,6,7,8,10}\n",
    "print(set1.symmetric_difference(set2))"
   ]
  },
  {
   "cell_type": "code",
   "execution_count": 34,
   "metadata": {},
   "outputs": [
    {
     "name": "stdout",
     "output_type": "stream",
     "text": [
      "False\n",
      "False\n"
     ]
    }
   ],
   "source": [
    "##sets method\n",
    "\n",
    "set1={1,2,3,4,5,6}\n",
    "set2={4,5,6,7,8}\n",
    "\n",
    "print(set1.issubset(set2))\n",
    "print(set1.issuperset(set2))\n"
   ]
  },
  {
   "cell_type": "code",
   "execution_count": 37,
   "metadata": {},
   "outputs": [
    {
     "name": "stdout",
     "output_type": "stream",
     "text": [
      "{1, 2, 3, 4, 5}\n"
     ]
    }
   ],
   "source": [
    "lst=[1,2,2,3,4,4,5]\n",
    "st=set(lst)\n",
    "print(st)\n"
   ]
  },
  {
   "cell_type": "code",
   "execution_count": 45,
   "metadata": {},
   "outputs": [
    {
     "name": "stdout",
     "output_type": "stream",
     "text": [
      "['I', 'n', ' ', 't', 'h', 'i', 's', ' ', 't', 'u', 't', 'o', 'r', 'i', 'a', 'l', ' ', 'w', 'e', ' ', 'a', 'r', 'e', ' ', 'd', 'i', 's', 'c', 'u', 's', 's', 'i', 'n', 'g', ' ', 'a', 'b', 'o', 'u', 't', ' ', 's', 'e', 't', 's']\n",
      "{'t', 'r', 'n', 'I', 'c', 'l', 'o', 'e', 'a', 'd', 'g', 'h', 'b', 'w', 's', 'u', 'i', ' '}\n",
      "18\n"
     ]
    }
   ],
   "source": [
    "text=\"In this tutorial we are discussing about sets\"\n",
    "# words=text.split()\n",
    "# print(words)\n",
    "char=list(text)\n",
    "print(char)\n",
    "st=set(char)\n",
    "print(st)\n",
    "# print(st.count())\n",
    "print(len(st))"
   ]
  }
 ],
 "metadata": {
  "kernelspec": {
   "display_name": "Python 3",
   "language": "python",
   "name": "python3"
  },
  "language_info": {
   "codemirror_mode": {
    "name": "ipython",
    "version": 3
   },
   "file_extension": ".py",
   "mimetype": "text/x-python",
   "name": "python",
   "nbconvert_exporter": "python",
   "pygments_lexer": "ipython3",
   "version": "3.12.8"
  }
 },
 "nbformat": 4,
 "nbformat_minor": 2
}
