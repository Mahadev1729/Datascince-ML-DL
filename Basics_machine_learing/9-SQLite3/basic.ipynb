{
 "cells": [
  {
   "cell_type": "code",
   "execution_count": 27,
   "metadata": {},
   "outputs": [],
   "source": [
    "## connection,insert{CRUD}\n",
    "import sqlite3 "
   ]
  },
  {
   "cell_type": "code",
   "execution_count": 1,
   "metadata": {},
   "outputs": [
    {
     "data": {
      "text/plain": [
       "<sqlite3.Connection at 0x2b9e95967a0>"
      ]
     },
     "execution_count": 1,
     "metadata": {},
     "output_type": "execute_result"
    }
   ],
   "source": [
    "## connect to an SQlite database\n",
    "import sqlite3 as sq3 \n",
    "connection=sq3.connect('example.db')\n",
    "connection"
   ]
  },
  {
   "cell_type": "code",
   "execution_count": 29,
   "metadata": {},
   "outputs": [
    {
     "data": {
      "text/plain": [
       "<sqlite3.Cursor at 0x1d68725d840>"
      ]
     },
     "execution_count": 29,
     "metadata": {},
     "output_type": "execute_result"
    }
   ],
   "source": [
    "curor=connection.cursor()\n",
    "curor"
   ]
  },
  {
   "cell_type": "code",
   "execution_count": 30,
   "metadata": {},
   "outputs": [],
   "source": [
    "## Create table\n",
    "curor.execute('''\n",
    "              Create Table If Not Exists employees(\n",
    "                  id Integer Primary Key,\n",
    "                  name Text Not Null,\n",
    "                  age Integer,\n",
    "                  dept Text\n",
    "              )\n",
    "              \n",
    "              ''')\n",
    "\n",
    "## COmmit the cahnge\n",
    "connection.commit()"
   ]
  },
  {
   "cell_type": "code",
   "execution_count": 31,
   "metadata": {},
   "outputs": [],
   "source": [
    "curor=connection.cursor()\n",
    "# curor.execute('''\n",
    "#              Select * from employees\n",
    "#              ''')"
   ]
  },
  {
   "cell_type": "code",
   "execution_count": 32,
   "metadata": {},
   "outputs": [],
   "source": [
    "# insert the data in sqlite table\n",
    "curor.execute('''\n",
    "              \n",
    "              Insert Into employees(name,age,dept)\n",
    "              values('Mahadev',21,'Student')\n",
    "''') \n",
    "curor.execute('''\n",
    "              \n",
    "              Insert Into employees(name,age,dept)\n",
    "              values('Akash',20,'Student')\n",
    "''')  \n",
    "curor.execute('''\n",
    "              \n",
    "              Insert Into employees(name,age,dept)\n",
    "              values('Kartik',21,'Student')\n",
    "''')               \n",
    "## commit the changes\n",
    "\n",
    "connection.commit()"
   ]
  },
  {
   "cell_type": "code",
   "execution_count": 33,
   "metadata": {},
   "outputs": [
    {
     "name": "stdout",
     "output_type": "stream",
     "text": [
      "(1, 'Mahadev', 21, 'Student')\n",
      "(2, 'Akash', 20, 'Student')\n",
      "(3, 'Kartik', 21, 'Student')\n",
      "(4, 'Mahadev', 21, 'Student')\n",
      "(5, 'Akash', 20, 'Student')\n",
      "(6, 'Kartik', 21, 'Student')\n",
      "(7, 'Mahadev', 21, 'Student')\n",
      "(8, 'Akash', 20, 'Student')\n",
      "(9, 'Kartik', 21, 'Student')\n",
      "(10, 'Mahadev', 21, 'Student')\n",
      "(11, 'Akash', 20, 'Student')\n",
      "(12, 'Kartik', 21, 'Student')\n"
     ]
    }
   ],
   "source": [
    "## quering data from table\n",
    "curor.execute('''\n",
    "             Select * from employees\n",
    "             ''')\n",
    "rows=curor.fetchall()\n",
    "\n",
    "for row in rows:\n",
    "    print(row)"
   ]
  },
  {
   "cell_type": "code",
   "execution_count": null,
   "metadata": {},
   "outputs": [],
   "source": []
  }
 ],
 "metadata": {
  "kernelspec": {
   "display_name": "Python 3",
   "language": "python",
   "name": "python3"
  },
  "language_info": {
   "codemirror_mode": {
    "name": "ipython",
    "version": 3
   },
   "file_extension": ".py",
   "mimetype": "text/x-python",
   "name": "python",
   "nbconvert_exporter": "python",
   "pygments_lexer": "ipython3",
   "version": "3.12.8"
  }
 },
 "nbformat": 4,
 "nbformat_minor": 2
}
