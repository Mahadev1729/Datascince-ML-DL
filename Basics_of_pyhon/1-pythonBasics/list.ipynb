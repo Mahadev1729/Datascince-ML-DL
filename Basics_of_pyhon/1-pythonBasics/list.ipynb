{
 "cells": [
  {
   "cell_type": "code",
   "execution_count": 1,
   "metadata": {},
   "outputs": [
    {
     "name": "stdout",
     "output_type": "stream",
     "text": [
      "<class 'list'>\n"
     ]
    }
   ],
   "source": [
    "lst=[]\n",
    "print(type(lst))"
   ]
  },
  {
   "cell_type": "code",
   "execution_count": 2,
   "metadata": {},
   "outputs": [
    {
     "name": "stdout",
     "output_type": "stream",
     "text": [
      "['akash', 'sagar', 'uiy']\n"
     ]
    }
   ],
   "source": [
    "names=[\"akash\",\"sagar\",\"uiy\"]\n",
    "print(names)"
   ]
  },
  {
   "cell_type": "code",
   "execution_count": 5,
   "metadata": {},
   "outputs": [
    {
     "name": "stdout",
     "output_type": "stream",
     "text": [
      "apple\n",
      "banana\n",
      "cherry\n",
      "kiwi\n",
      "mango\n"
     ]
    }
   ],
   "source": [
    "fruits=[\"apple\",\"banana\",\"cherry\",\"kiwi\",\"mango\"]\n",
    "for item in fruits:\n",
    "    print(item)"
   ]
  },
  {
   "cell_type": "code",
   "execution_count": 7,
   "metadata": {},
   "outputs": [
    {
     "name": "stdout",
     "output_type": "stream",
     "text": [
      "['banana', 'cherry', 'kiwi', 'mango']\n"
     ]
    }
   ],
   "source": [
    "print(fruits[1:5])"
   ]
  },
  {
   "cell_type": "code",
   "execution_count": 8,
   "metadata": {},
   "outputs": [
    {
     "name": "stdout",
     "output_type": "stream",
     "text": [
      "['apple', 'watermalon', 'cherry', 'kiwi', 'mango']\n"
     ]
    }
   ],
   "source": [
    "#modify the elements in list\n",
    "fruits[1]=\"watermalon\"\n",
    "print(fruits)"
   ]
  },
  {
   "cell_type": "code",
   "execution_count": 30,
   "metadata": {},
   "outputs": [
    {
     "name": "stdout",
     "output_type": "stream",
     "text": [
      "[3, 4, 5]\n",
      "[1, 2, 3, 4, 5]\n",
      "[1, 3, 5, 7, 9]\n",
      "[3, 4, 5, 6, 7, 8, 9, 10]\n",
      "[10, 9, 8, 7, 6, 5, 4, 3, 2, 1]\n"
     ]
    }
   ],
   "source": [
    "##Slicing\n",
    "lst=[1,2,3,4,5,6,7,8,9,10]\n",
    "print(lst[2:5])\n",
    "print(lst[:5])\n",
    "print(lst[::2])\n",
    "print(lst[2::])\n",
    "print(lst[::-1])\n"
   ]
  },
  {
   "cell_type": "code",
   "execution_count": 37,
   "metadata": {},
   "outputs": [
    {
     "name": "stdout",
     "output_type": "stream",
     "text": [
      "0 1\n",
      "1 2\n",
      "2 3\n",
      "3 4\n",
      "4 5\n",
      "5 6\n",
      "6 7\n",
      "7 8\n",
      "8 9\n",
      "9 10\n"
     ]
    }
   ],
   "source": [
    "#iteration\n",
    "for index,number in enumerate(lst):\n",
    "    print(index,number)"
   ]
  },
  {
   "cell_type": "code",
   "execution_count": 25,
   "metadata": {},
   "outputs": [
    {
     "name": "stdout",
     "output_type": "stream",
     "text": [
      "5\n",
      "[23, 4, 5, 6, 7, 90]\n",
      "6\n",
      "[23, 4, 5, 68, 6, 7, 90]\n",
      "[23, 4, 5, 68, 6, 90]\n",
      "[23, 4, 5, 68, 6]\n",
      "3\n",
      "[23, 4, 5, 68, 6]\n",
      "[4, 5, 6, 23, 68]\n",
      "[68, 23, 6, 5, 4]\n"
     ]
    }
   ],
   "source": [
    "\n",
    "#list methods\n",
    "\n",
    "lst=[23,4,5,6,7]\n",
    "print(len(lst))\n",
    "lst.append(90)\n",
    "print(lst)\n",
    "print(len(lst))\n",
    "lst.insert(3,68)\n",
    "print(lst)\n",
    "lst.remove(7)\n",
    "print(lst)\n",
    "lst.pop()\n",
    "print(lst)\n",
    "print(lst.index(68))\n",
    "# lst.insert(3,int(input()))\n",
    "print(lst)\n",
    "lst.count(23)\n",
    "lst.sort()\n",
    "print(lst)\n",
    "lst.reverse()\n",
    "print(lst)"
   ]
  }
 ],
 "metadata": {
  "kernelspec": {
   "display_name": "Python 3",
   "language": "python",
   "name": "python3"
  },
  "language_info": {
   "codemirror_mode": {
    "name": "ipython",
    "version": 3
   },
   "file_extension": ".py",
   "mimetype": "text/x-python",
   "name": "python",
   "nbconvert_exporter": "python",
   "pygments_lexer": "ipython3",
   "version": "3.12.8"
  }
 },
 "nbformat": 4,
 "nbformat_minor": 2
}
