{
 "cells": [
  {
   "cell_type": "markdown",
   "id": "c67e3d4e",
   "metadata": {},
   "source": [
    "Missing value:\n",
    "1.Missing Completely at Random:\n",
    "\n",
    "Missing Completely at Random is pretty straightforward.  What it means is what is says:  the propensity for a data point to be missing is completely random.\n",
    "\n",
    "There’s no relationship between whether a data point is missing and any values in the data set, missing or observed.\n",
    "\n",
    "The missing data are just a random subset of the data.\n",
    "\n",
    "So for example if someone accidentally skips one page of your survey because the pages stuck together, the missingness mechanism isn’t about any of the values.\n",
    "\n",
    "2.Missing at Random (MAR):\n",
    "\n",
    "Missing at Random means  the propensity for a data point to be missing is not related to the missing data, but it is related to some of the observed data.\n",
    "\n",
    "3.Missing Data not at Random\n",
    "\n",
    "\n"
   ]
  },
  {
   "cell_type": "code",
   "execution_count": null,
   "id": "43bd0018",
   "metadata": {},
   "outputs": [],
   "source": []
  },
  {
   "cell_type": "code",
   "execution_count": null,
   "id": "9f80f4f1",
   "metadata": {},
   "outputs": [],
   "source": []
  },
  {
   "cell_type": "code",
   "execution_count": null,
   "id": "70824193",
   "metadata": {},
   "outputs": [],
   "source": []
  },
  {
   "cell_type": "code",
   "execution_count": null,
   "id": "ac191b5f",
   "metadata": {},
   "outputs": [],
   "source": []
  },
  {
   "cell_type": "code",
   "execution_count": null,
   "id": "15d1f3b9",
   "metadata": {},
   "outputs": [],
   "source": []
  },
  {
   "cell_type": "code",
   "execution_count": null,
   "id": "862250bf",
   "metadata": {},
   "outputs": [],
   "source": []
  }
 ],
 "metadata": {
  "kernelspec": {
   "display_name": "Python 3",
   "language": "python",
   "name": "python3"
  },
  "language_info": {
   "name": "python",
   "version": "3.12.8"
  }
 },
 "nbformat": 4,
 "nbformat_minor": 5
}
